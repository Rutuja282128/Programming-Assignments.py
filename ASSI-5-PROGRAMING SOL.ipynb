{
 "cells": [
  {
   "cell_type": "markdown",
   "id": "b9c25d5b",
   "metadata": {},
   "source": [
    "# <h1>ASSIGNMENT 5</h1>"
   ]
  },
  {
   "cell_type": "code",
   "execution_count": 3,
   "id": "949868e7",
   "metadata": {},
   "outputs": [
    {
     "name": "stdout",
     "output_type": "stream",
     "text": [
      "Enter the first number: 12\n",
      "Enter the second number: 20\n",
      "The LCM of 12 and 20 is 60\n"
     ]
    }
   ],
   "source": [
    "1. Write a Python Program to Find LCM?\n",
    "\n",
    "ANS:=\n",
    "\n",
    "# Function to find the GCD of two numbers\n",
    "def gcd(a, b):\n",
    "    if b == 0:\n",
    "        return a\n",
    "    else:\n",
    "        return gcd(b, a % b)\n",
    "\n",
    "# Function to find the LCM of two numbers\n",
    "def lcm(a, b):\n",
    "    return (a * b) // gcd(a, b)\n",
    "\n",
    "# Prompt the user to enter two numbers\n",
    "num1 = int(input(\"Enter the first number: \"))\n",
    "num2 = int(input(\"Enter the second number: \"))\n",
    "\n",
    "# Calculate the LCM of the two numbers\n",
    "lcm_value = lcm(num1, num2)\n",
    "\n",
    "# Print the LCM\n",
    "print(\"The LCM of\", num1, \"and\", num2, \"is\", lcm_value)\n"
   ]
  },
  {
   "cell_type": "code",
   "execution_count": 4,
   "id": "82b4dd7d",
   "metadata": {},
   "outputs": [
    {
     "name": "stdout",
     "output_type": "stream",
     "text": [
      "Enter the first number: 24\n",
      "Enter the second number: 36\n",
      "The HCF of 24 and 36 is 12\n"
     ]
    }
   ],
   "source": [
    "2. Write a Python Program to Find HCF?\n",
    "\n",
    "ANS:=\n",
    "# Function to find the HCF of two numbers\n",
    "def hcf(a, b):\n",
    "    if b == 0:\n",
    "        return a\n",
    "    else:\n",
    "        return hcf(b, a % b)\n",
    "\n",
    "# Prompt the user to enter two numbers\n",
    "num1 = int(input(\"Enter the first number: \"))\n",
    "num2 = int(input(\"Enter the second number: \"))\n",
    "\n",
    "# Calculate the HCF of the two numbers\n",
    "hcf_value = hcf(num1, num2)\n",
    "\n",
    "# Print the HCF\n",
    "print(\"The HCF of\", num1, \"and\", num2, \"is\", hcf_value)\n"
   ]
  },
  {
   "cell_type": "code",
   "execution_count": 5,
   "id": "832bec6f",
   "metadata": {},
   "outputs": [
    {
     "name": "stdout",
     "output_type": "stream",
     "text": [
      "Enter a decimal number: 255\n",
      "The binary representation of 255 is 0b11111111\n",
      "The octal representation of 255 is 0o377\n",
      "The hexadecimal representation of 255 is 0xff\n"
     ]
    }
   ],
   "source": [
    "3. Write a Python Program to Convert Decimal to Binary, Octal and Hexadecimal?\n",
    "\n",
    "ANS:=\n",
    "# Prompt the user to enter a decimal number\n",
    "decimal_num = int(input(\"Enter a decimal number: \"))\n",
    "\n",
    "# Convert decimal to binary\n",
    "binary_num = bin(decimal_num)\n",
    "\n",
    "# Convert decimal to octal\n",
    "octal_num = oct(decimal_num)\n",
    "\n",
    "# Convert decimal to hexadecimal\n",
    "hexadecimal_num = hex(decimal_num)\n",
    "\n",
    "# Print the results\n",
    "print(\"The binary representation of\", decimal_num, \"is\", binary_num)\n",
    "print(\"The octal representation of\", decimal_num, \"is\", octal_num)\n",
    "print(\"The hexadecimal representation of\", decimal_num, \"is\", hexadecimal_num)\n"
   ]
  },
  {
   "cell_type": "code",
   "execution_count": 6,
   "id": "0b852a4a",
   "metadata": {},
   "outputs": [
    {
     "name": "stdout",
     "output_type": "stream",
     "text": [
      "Enter a character: A\n",
      "The ASCII value of A is 65\n"
     ]
    }
   ],
   "source": [
    "4. Write a Python Program To Find ASCII value of a character?\n",
    "\n",
    "ANS:=\n",
    "# Prompt the user to enter a character\n",
    "char = input(\"Enter a character: \")\n",
    "\n",
    "# Convert the character to its ASCII value\n",
    "ascii_value = ord(char)\n",
    "\n",
    "# Print the ASCII value\n",
    "print(\"The ASCII value of\", char, \"is\", ascii_value)\n"
   ]
  },
  {
   "cell_type": "code",
   "execution_count": 8,
   "id": "d66c02c6",
   "metadata": {},
   "outputs": [
    {
     "name": "stdout",
     "output_type": "stream",
     "text": [
      "Enter the first number: 5\n",
      "Enter the second number: 4\n",
      "Choose an operation:\n",
      "1. Addition\n",
      "2. Subtraction\n",
      "3. Multiplication\n",
      "4. Division\n",
      "Enter choice (1/2/3/4): 1\n",
      "5.0 + 4.0 = 9.0\n"
     ]
    }
   ],
   "source": [
    "5. Write a Python Program to Make a Simple Calculator with 4 basic mathematical operations?\n",
    "\n",
    "ANS:=\n",
    "\n",
    "def add(x,y):\n",
    "    return x+y\n",
    "def sub(x,y):\n",
    "    return x-y\n",
    "def mul(x,y):\n",
    "    return x*y\n",
    "def div(x,y):\n",
    "    return x/y\n",
    "num1 = float(input(\"Enter the first number: \"))\n",
    "num2 = float(input(\"Enter the second number: \"))\n",
    "\n",
    "# Prompt the user to choose an operation\n",
    "print(\"Choose an operation:\")\n",
    "print(\"1. Addition\")\n",
    "print(\"2. Subtraction\")\n",
    "print(\"3. Multiplication\")\n",
    "print(\"4. Division\")\n",
    "\n",
    "choice = input(\"Enter choice (1/2/3/4): \")\n",
    "\n",
    "# Perform the operation\n",
    "if choice == '1':\n",
    "    result = add(num1, num2)\n",
    "    operation = \"+\"\n",
    "elif choice == '2':\n",
    "    result = subtract(num1, num2)\n",
    "    operation = \"-\"\n",
    "elif choice == '3':\n",
    "    result = multiply(num1, num2)\n",
    "    operation = \"*\"\n",
    "elif choice == '4':\n",
    "    result = divide(num1, num2)\n",
    "    operation = \"/\"\n",
    "\n",
    "# Print the result\n",
    "print(num1, operation, num2, \"=\", result)\n",
    "\n",
    "\n",
    "\n",
    "        "
   ]
  },
  {
   "cell_type": "code",
   "execution_count": null,
   "id": "b2ac8519",
   "metadata": {},
   "outputs": [],
   "source": []
  }
 ],
 "metadata": {
  "kernelspec": {
   "display_name": "Python 3 (ipykernel)",
   "language": "python",
   "name": "python3"
  },
  "language_info": {
   "codemirror_mode": {
    "name": "ipython",
    "version": 3
   },
   "file_extension": ".py",
   "mimetype": "text/x-python",
   "name": "python",
   "nbconvert_exporter": "python",
   "pygments_lexer": "ipython3",
   "version": "3.9.13"
  }
 },
 "nbformat": 4,
 "nbformat_minor": 5
}
