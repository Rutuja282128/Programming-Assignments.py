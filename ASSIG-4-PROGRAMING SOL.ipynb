{
 "cells": [
  {
   "cell_type": "markdown",
   "id": "d31d285c",
   "metadata": {},
   "source": [
    "# <h1>ASSIGNMENT 4</h1>"
   ]
  },
  {
   "cell_type": "code",
   "execution_count": 11,
   "id": "e60b6b5f",
   "metadata": {},
   "outputs": [
    {
     "name": "stdout",
     "output_type": "stream",
     "text": [
      "Enter the number5\n",
      "Factorial of 5 is 120\n"
     ]
    }
   ],
   "source": [
    "1. Write a Python Program to Find the Factorial of a Number?\n",
    "\n",
    "ANS:=\n",
    "\n",
    "num=int(input(\"Enter the number\"))\n",
    "factorial=1\n",
    "if num<0:\n",
    "    print(\"This is not factorial\")\n",
    "elif num==0:\n",
    "    print(\"factorial of 0 is 1\")\n",
    "\n",
    "else:\n",
    "    for i in range(1,num+1):\n",
    "        factorial*=i\n",
    "    print(\"Factorial of\",num, \"is\", factorial)"
   ]
  },
  {
   "cell_type": "code",
   "execution_count": 4,
   "id": "3e87545c",
   "metadata": {},
   "outputs": [
    {
     "name": "stdout",
     "output_type": "stream",
     "text": [
      "Enter a number: 19\n",
      "Multiplication table of 19\n",
      "19 x 1 = 19\n",
      "19 x 2 = 38\n",
      "19 x 3 = 57\n",
      "19 x 4 = 76\n",
      "19 x 5 = 95\n",
      "19 x 6 = 114\n",
      "19 x 7 = 133\n",
      "19 x 8 = 152\n",
      "19 x 9 = 171\n",
      "19 x 10 = 190\n",
      "19 x 11 = 209\n",
      "19 x 12 = 228\n",
      "19 x 13 = 247\n",
      "19 x 14 = 266\n",
      "19 x 15 = 285\n",
      "19 x 16 = 304\n",
      "19 x 17 = 323\n",
      "19 x 18 = 342\n",
      "19 x 19 = 361\n",
      "19 x 20 = 380\n"
     ]
    }
   ],
   "source": [
    "2. Write a Python Program to Display the multiplication Table?\n",
    "\n",
    "ANS:=\n",
    "\n",
    "number = int(input(\"Enter a number: \"))\n",
    "\n",
    "print(\"Multiplication table of\", number)\n",
    "\n",
    "for i in range(1, 30):\n",
    "    print(number, \"x\", i, \"=\", number*i)"
   ]
  },
  {
   "cell_type": "code",
   "execution_count": 5,
   "id": "eb39d661",
   "metadata": {},
   "outputs": [
    {
     "name": "stdout",
     "output_type": "stream",
     "text": [
      "Enter the number of terms: 10\n",
      "Fibonacci sequence:\n",
      "0\n",
      "1\n",
      "1\n",
      "2\n",
      "3\n",
      "5\n",
      "8\n",
      "13\n",
      "21\n",
      "34\n"
     ]
    }
   ],
   "source": [
    "3. Write a Python Program to Print the Fibonacci sequence?\n",
    "\n",
    "ANS:=\n",
    "\n",
    "terms = int(input(\"Enter the number of terms: \"))\n",
    "\n",
    "# First two terms of the sequence\n",
    "num1, num2 = 0, 1\n",
    "count = 0\n",
    "\n",
    "if terms <= 0:\n",
    "   print(\"Please enter a positive integer.\")\n",
    "elif terms == 1:\n",
    "   print(\"Fibonacci sequence up to\", terms, \":\")\n",
    "   print(num1)\n",
    "else:\n",
    "   print(\"Fibonacci sequence:\")\n",
    "   while count < terms:\n",
    "       print(num1)\n",
    "       nth = num1 + num2\n",
    "       num1 = num2\n",
    "       num2 = nth\n",
    "       count += 1\n"
   ]
  },
  {
   "cell_type": "code",
   "execution_count": 7,
   "id": "12338876",
   "metadata": {},
   "outputs": [
    {
     "name": "stdout",
     "output_type": "stream",
     "text": [
      "Enter a number: 371\n",
      "371 is an Armstrong number.\n"
     ]
    }
   ],
   "source": [
    "4. Write a Python Program to Check Armstrong Number?\n",
    "\n",
    "ANS:=\n",
    "\n",
    "number = int(input(\"Enter a number: \"))\n",
    "\n",
    "# Find the number of digits in the number\n",
    "num_digits = len(str(number))\n",
    "\n",
    "# Initialize the sum variable\n",
    "sum = 0\n",
    "\n",
    "# Check if the number is an Armstrong number\n",
    "temp = number\n",
    "while temp > 0:\n",
    "   digit = temp % 10\n",
    "   sum += digit ** num_digits\n",
    "   temp //= 10\n",
    "\n",
    "if number == sum:\n",
    "   print(number, \"is an Armstrong number.\")\n",
    "else:\n",
    "   print(number, \"is not an Armstrong number.\")\n"
   ]
  },
  {
   "cell_type": "code",
   "execution_count": 8,
   "id": "87aa3b29",
   "metadata": {},
   "outputs": [
    {
     "name": "stdout",
     "output_type": "stream",
     "text": [
      "Enter the lower bound of the interval: 3\n",
      "Enter the upper bound of the interval: 10\n",
      "Armstrong numbers between 3 and 10 are:\n",
      "3\n",
      "4\n",
      "5\n",
      "6\n",
      "7\n",
      "8\n",
      "9\n"
     ]
    }
   ],
   "source": [
    "5. Write a Python Program to Find Armstrong Number in an Interval?\n",
    "\n",
    "ANS:=\n",
    "\n",
    "\n",
    "lower = int(input(\"Enter the lower bound of the interval: \"))\n",
    "upper = int(input(\"Enter the upper bound of the interval: \"))\n",
    "\n",
    "print(\"Armstrong numbers between\", lower, \"and\", upper, \"are:\")\n",
    "\n",
    "for number in range(lower, upper + 1):\n",
    "    # Find the number of digits in the number\n",
    "    num_digits = len(str(number))\n",
    "\n",
    "    # Initialize the sum variable\n",
    "    sum = 0\n",
    "\n",
    "    # Check if the number is an Armstrong number\n",
    "    temp = number\n",
    "    while temp > 0:\n",
    "        digit = temp % 10\n",
    "        sum += digit ** num_digits\n",
    "        temp //= 10\n",
    "\n",
    "    if number == sum:\n",
    "        print(number)\n"
   ]
  },
  {
   "cell_type": "code",
   "execution_count": 10,
   "id": "352805b6",
   "metadata": {},
   "outputs": [
    {
     "name": "stdout",
     "output_type": "stream",
     "text": [
      "Enter a number: 43\n",
      "The sum of natural numbers up to 43 is 946\n"
     ]
    }
   ],
   "source": [
    "6. Write a Python Program to Find the Sum of Natural Numbers?\n",
    "\n",
    "ANS:=\n",
    "\n",
    "num = int(input(\"Enter a number: \"))\n",
    "\n",
    "# Initialize the sum variable\n",
    "sum = 0\n",
    "\n",
    "# Calculate the sum of natural numbers up to num\n",
    "for i in range(1, num+1):\n",
    "    sum += i\n",
    "\n",
    "print(\"The sum of natural numbers up to\", num, \"is\", sum)\n"
   ]
  },
  {
   "cell_type": "code",
   "execution_count": null,
   "id": "ef16065c",
   "metadata": {},
   "outputs": [],
   "source": []
  }
 ],
 "metadata": {
  "kernelspec": {
   "display_name": "Python 3 (ipykernel)",
   "language": "python",
   "name": "python3"
  },
  "language_info": {
   "codemirror_mode": {
    "name": "ipython",
    "version": 3
   },
   "file_extension": ".py",
   "mimetype": "text/x-python",
   "name": "python",
   "nbconvert_exporter": "python",
   "pygments_lexer": "ipython3",
   "version": "3.9.13"
  }
 },
 "nbformat": 4,
 "nbformat_minor": 5
}
